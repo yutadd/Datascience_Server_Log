{
 "cells": [
  {
   "cell_type": "markdown",
   "metadata": {},
   "source": [
    "# アクセスログの分析\n",
    "学生番号:21060009  \n",
    "名前:坂島悠太  \n",
    "## 目的\n",
    "目的\n",
    "## 背景\n",
    "背景\n",
    "## 分析\n",
    "### 前処理\n",
    "アパッチのアクセスログをcsv形式に変換し、access.csvとして保存します。"
   ]
  },
  {
   "cell_type": "code",
   "execution_count": 1,
   "metadata": {},
   "outputs": [],
   "source": [
    "# データ前処理\n",
    "import csv\n",
    "import re\n",
    "\n",
    "def parse_log_line(line):\n",
    "    pattern = r'(\\d{1,3}\\.\\d{1,3}\\.\\d{1,3}\\.\\d{1,3}) - - \\[(.*?)\\] \"(.*?)\" (\\d{3}) (\\d+) \"(.*?)\" \"(.*?)\"'\n",
    "    match = re.match(pattern, line)\n",
    "    if match:\n",
    "        return match.groups()\n",
    "    return None\n",
    "\n",
    "def convert_log_to_csv(log_file_path, csv_file_path):\n",
    "    with open(log_file_path, 'r') as log_file, open(csv_file_path, 'w', newline='') as csv_file:\n",
    "        writer = csv.writer(csv_file)\n",
    "        writer.writerow(['IP', 'DateTime', 'Request', 'Status', 'Bytes', 'Referer', 'UserAgent'])\n",
    "        for line in log_file:\n",
    "            parsed_line = parse_log_line(line)\n",
    "            if parsed_line:\n",
    "                writer.writerow(parsed_line)\n",
    "\n",
    "# 使用例\n",
    "convert_log_to_csv('./data/access.log', './data/access.csv')\n"
   ]
  },
  {
   "cell_type": "markdown",
   "metadata": {},
   "source": [
    "### データの読み込み\n",
    "先ほど作成した./data/access.csvをdataframeに読み込みます"
   ]
  },
  {
   "cell_type": "code",
   "execution_count": 3,
   "metadata": {},
   "outputs": [
    {
     "name": "stdout",
     "output_type": "stream",
     "text": [
      "              IP                    DateTime  \\\n",
      "0   54.36.149.41  22/Jan/2019:03:56:14 +0330   \n",
      "1    31.56.96.51  22/Jan/2019:03:56:16 +0330   \n",
      "2    31.56.96.51  22/Jan/2019:03:56:16 +0330   \n",
      "3  40.77.167.129  22/Jan/2019:03:56:17 +0330   \n",
      "4    91.99.72.15  22/Jan/2019:03:56:17 +0330   \n",
      "\n",
      "                                             Request  Status  Bytes  \\\n",
      "0  GET /filter/27|13%20%D9%85%DA%AF%D8%A7%D9%BE%D...     200  30577   \n",
      "1     GET /image/60844/productModel/200x200 HTTP/1.1     200   5667   \n",
      "2     GET /image/61474/productModel/200x200 HTTP/1.1     200   5379   \n",
      "3     GET /image/14925/productModel/100x100 HTTP/1.1     200   1696   \n",
      "4  GET /product/31893/62100/%D8%B3%D8%B4%D9%88%D8...     200  41483   \n",
      "\n",
      "                               Referer  \\\n",
      "0                                    -   \n",
      "1  https://www.zanbil.ir/m/filter/b113   \n",
      "2  https://www.zanbil.ir/m/filter/b113   \n",
      "3                                    -   \n",
      "4                                    -   \n",
      "\n",
      "                                           UserAgent  \n",
      "0  Mozilla/5.0 (compatible; AhrefsBot/6.1; +http:...  \n",
      "1  Mozilla/5.0 (Linux; Android 6.0; ALE-L21 Build...  \n",
      "2  Mozilla/5.0 (Linux; Android 6.0; ALE-L21 Build...  \n",
      "3  Mozilla/5.0 (compatible; bingbot/2.0; +http://...  \n",
      "4  Mozilla/5.0 (Windows NT 6.2; Win64; x64; rv:16...  \n"
     ]
    }
   ],
   "source": [
    "import pandas as pd\n",
    "\n",
    "# CSVファイルのパス\n",
    "csv_file_path = './data/access.csv'\n",
    "\n",
    "# CSVファイルを読み込む\n",
    "df = pd.read_csv(csv_file_path)\n",
    "\n",
    "# DataFrameを表示する\n",
    "print(df.head(5))\n"
   ]
  },
  {
   "cell_type": "markdown",
   "metadata": {},
   "source": [
    "## 流入経路\n",
    "ユーザーがどういった経路でこのサイトにたどり着いたのかを示すリファラのランキングです"
   ]
  },
  {
   "cell_type": "code",
   "execution_count": null,
   "metadata": {},
   "outputs": [],
   "source": []
  }
 ],
 "metadata": {
  "kernelspec": {
   "display_name": "base",
   "language": "python",
   "name": "python3"
  },
  "language_info": {
   "codemirror_mode": {
    "name": "ipython",
    "version": 3
   },
   "file_extension": ".py",
   "mimetype": "text/x-python",
   "name": "python",
   "nbconvert_exporter": "python",
   "pygments_lexer": "ipython3",
   "version": "3.11.5"
  }
 },
 "nbformat": 4,
 "nbformat_minor": 2
}
