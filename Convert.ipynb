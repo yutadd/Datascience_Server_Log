{
 "cells": [
  {
   "cell_type": "code",
   "execution_count": 1,
   "metadata": {},
   "outputs": [],
   "source": [
    "# データ前処理\n",
    "#IPごとに、閲覧したものをリストにして、興味の移り変わりをモデル化\n",
    "\n",
    "import csv\n",
    "import re\n",
    "\n",
    "def parse_log_line(line):\n",
    "    pattern = r'(\\d{1,3}\\.\\d{1,3}\\.\\d{1,3}\\.\\d{1,3}) - - \\[(.*?)\\] \"(.*?)\" (\\d{3}) (\\d+) \"(.*?)\" \"(.*?)\"'\n",
    "    match = re.match(pattern, line)\n",
    "    if match:\n",
    "        return match.groups()\n",
    "    return None\n",
    "\n",
    "def convert_log_to_csv(log_file_path, csv_file_path):\n",
    "    with open(log_file_path, 'r') as log_file, open(csv_file_path, 'w', newline='') as csv_file:\n",
    "        writer = csv.writer(csv_file)\n",
    "        writer.writerow(['IP', 'DateTime', 'Request', 'Status', 'Bytes', 'Referer', 'UserAgent'])\n",
    "        for line in log_file:\n",
    "            parsed_line = parse_log_line(line)\n",
    "            if parsed_line:\n",
    "                writer.writerow(parsed_line)\n",
    "# 使用例\n",
    "convert_log_to_csv('./data/access.log', './data/access.csv')\n"
   ]
  },
  {
   "cell_type": "code",
   "execution_count": 4,
   "metadata": {},
   "outputs": [
    {
     "name": "stdout",
     "output_type": "stream",
     "text": [
      "258606 10365150\n"
     ]
    }
   ],
   "source": [
    "\n",
    "#訪問者数\n",
    "unique_users = df['IP'].nunique()\n",
    "total_users = len(df)\n",
    "print(unique_users, total_users)\n"
   ]
  }
 ],
 "metadata": {
  "kernelspec": {
   "display_name": "base",
   "language": "python",
   "name": "python3"
  },
  "language_info": {
   "codemirror_mode": {
    "name": "ipython",
    "version": 3
   },
   "file_extension": ".py",
   "mimetype": "text/x-python",
   "name": "python",
   "nbconvert_exporter": "python",
   "pygments_lexer": "ipython3",
   "version": "3.11.5"
  }
 },
 "nbformat": 4,
 "nbformat_minor": 2
}
