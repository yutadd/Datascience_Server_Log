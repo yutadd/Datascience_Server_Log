{
 "cells": [
  {
   "cell_type": "code",
   "execution_count": null,
   "metadata": {},
   "outputs": [],
   "source": [
    "import pandas as pd\n",
    "from urllib.parse import urlparse\n",
    "\n",
    "# CSVファイルのパス\n",
    "csv_file_path = './data/access.csv'\n",
    "# CSVファイルを読み込む\n",
    "df = pd.read_csv(csv_file_path)\n",
    "\n",
    "# URLに指定された文字列を含んでいるかどうか判定する関数\n",
    "def filter_str(url):\n",
    "    lower_url = url.lower()\n",
    "    if 'zanbil.ir' in lower_url or 'znbl.ir' in lower_url or 'zanbil-ir' in lower_url:\n",
    "        return '-'\n",
    "    return url\n",
    "# URLからドメイン名を抽出する関数\n",
    "def get_domain(url):\n",
    "    return urlparse(url).netloc if url != '-' else None\n",
    "\n",
    "# リファラが空白でないデータをフィルタリングし、不要なドメインを除外\n",
    "df['Referer'] = df['Referer'].dropna().apply(filter_str)\n",
    "df_filtered = df[df['Referer'] != '-'].dropna()\n",
    "\n",
    "# リファラからドメイン名を抽出\n",
    "df_filtered['Referer_Domain'] = df_filtered['Referer'].apply(get_domain)\n",
    "\n",
    "# リファラの頻度を計算\n",
    "referer_counts = df_filtered['Referer'].value_counts()\n",
    "referer_domain_counts = df_filtered['Referer_Domain'].value_counts()\n",
    "\n",
    "print(len(referer_counts))\n",
    "print(len(referer_domain_counts))"
   ]
  },
  {
   "cell_type": "code",
   "execution_count": null,
   "metadata": {},
   "outputs": [],
   "source": [
    "from datetime import datetime\n",
    "\n",
    "def conv_dt_to_milli(date_str):\n",
    "    date_obj = datetime.strptime(date_str, '%d/%b/%Y:%H:%M:%S %z')\n",
    "    timestamp = date_obj.timestamp()\n",
    "    milliseconds = timestamp * 1000\n",
    "    return milliseconds\n",
    "df_zanbil_referrer = df[df['Referer'].str.contains('www.zanbil.ir', na=False)]\n",
    "'''def get_duration(record):\n",
    "    recordTime = conv_dt_to_milli(record['DateTime'])\n",
    "    recentry_DateTime = None\n",
    "    same_to_referers = df_zanbil_referrer[df_zanbil_referrer['Request'].str.contains(record['Referer'])]\n",
    "    for same_to_referer in same_to_referers.itertuples():\n",
    "        same_to_referer_milli = conv_dt_to_milli(same_to_referer.DateTime)\n",
    "        if recordTime > same_to_referer_milli and (recentry_DateTime == None or recentry_DateTime < same_to_referer_milli):\n",
    "            recentry_DateTime = same_to_referer_milli\n",
    "    if recentry_DateTime == None:\n",
    "        return 0\n",
    "    else:\n",
    "        return recordTime - recentry_DateTime\n",
    "# IPごとにリファラがzanbil.irだった場合のページごとの滞在時間を計算\n",
    "page_stay_time = df_zanbil_referrer.apply(get_duration, axis=1)\n",
    "page_stay_time = page_stay_time[page_stay_time != 0]\n",
    "page_stay_time = page_stay_time.mean()\n",
    "print(page_stay_time)'''"
   ]
  }
 ],
 "metadata": {
  "language_info": {
   "name": "python"
  }
 },
 "nbformat": 4,
 "nbformat_minor": 2
}
