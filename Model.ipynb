{
 "cells": [
  {
   "cell_type": "code",
   "execution_count": null,
   "metadata": {},
   "outputs": [],
   "source": [
    "import pandas as pd\n",
    "import networkx as nx\n",
    "import matplotlib.pyplot as plt\n",
    "import pandas as pd\n",
    "\n",
    "# CSVファイルを読み込む\n",
    "df = pd.read_csv('./data/access.csv')\n",
    "\n",
    "# 同一ユーザーの連続したリクエストを取得する\n",
    "df['next_request'] = df.groupby('IP')['Request'].shift(-1)\n",
    "\n",
    "# NaNを削除する\n",
    "df = df.dropna(subset=['next_request'])\n",
    "\n",
    "# 有向グラフを作成する\n",
    "G = nx.from_pandas_edgelist(df, 'Request', 'next_request', create_using=nx.DiGraph())\n",
    "\n",
    "# グラフを描画する\n",
    "nx.draw(G, with_labels=True)\n",
    "plt.show()"
   ]
  },
  {
   "cell_type": "code",
   "execution_count": null,
   "metadata": {},
   "outputs": [],
   "source": [
    "import cudf\n",
    "import cugraph\n",
    "import matplotlib.pyplot as plt\n",
    "\n",
    "# CSVファイルを読み込む\n",
    "gdf = cudf.read_csv('./data/access.csv')\n",
    "\n",
    "# 同一ユーザーの連続したリクエストを取得する\n",
    "gdf['next_request'] = gdf.groupby('IP')['Request'].shift(-1)\n",
    "\n",
    "# NaNを削除する\n",
    "gdf = gdf.dropna(subset=['next_request'])\n",
    "\n",
    "# cuGraphの有向グラフを作成する\n",
    "G = cugraph.DiGraph()\n",
    "G.from_cudf_edgelist(gdf, source='Request', destination='next_request')\n",
    "\n",
    "# グラフを描画する（注: cugraphは描画機能を提供していないため、NetworkXとMatplotlibを使用）\n",
    "# NetworkXグラフオブジェクトに変換する必要がある\n",
    "G_nx = G.to_networkx()\n",
    "nx.draw(G_nx, with_labels=True)\n",
    "plt.show()"
   ]
  }
 ],
 "metadata": {
  "kernelspec": {
   "display_name": "base",
   "language": "python",
   "name": "python3"
  },
  "language_info": {
   "codemirror_mode": {
    "name": "ipython",
    "version": 3
   },
   "file_extension": ".py",
   "mimetype": "text/x-python",
   "name": "python",
   "nbconvert_exporter": "python",
   "pygments_lexer": "ipython3",
   "version": "3.11.5"
  }
 },
 "nbformat": 4,
 "nbformat_minor": 2
}
