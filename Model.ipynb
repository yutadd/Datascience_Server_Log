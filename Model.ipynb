{
 "cells": [
  {
   "cell_type": "code",
   "execution_count": null,
   "metadata": {},
   "outputs": [],
   "source": [
    "import pandas as pd\n",
    "import networkx as nx\n",
    "import matplotlib.pyplot as plt\n",
    "import pandas as pd\n",
    "\n",
    "# CSVファイルを読み込む\n",
    "df = pd.read_csv('./data/access.csv')\n",
    "\n",
    "# 同一ユーザーの連続したリクエストを取得する\n",
    "df['next_request'] = df.groupby('IP')['Request'].shift(-1)\n",
    "\n",
    "# NaNを削除する\n",
    "df = df.dropna(subset=['next_request'])\n",
    "\n",
    "# 有向グラフを作成する\n",
    "G = nx.from_pandas_edgelist(df, 'Request', 'next_request', create_using=nx.DiGraph())\n",
    "\n",
    "# グラフを描画する\n",
    "nx.draw(G, with_labels=True)\n",
    "plt.show()"
   ]
  }
 ],
 "metadata": {
  "language_info": {
   "name": "python"
  }
 },
 "nbformat": 4,
 "nbformat_minor": 2
}
