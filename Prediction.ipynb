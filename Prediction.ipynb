{
 "cells": [
  {
   "cell_type": "code",
   "execution_count": 1,
   "metadata": {},
   "outputs": [],
   "source": [
    "import pandas as pd\n",
    "import urllib.parse\n",
    "def decode_url_and_remove_HTTPversion(encoded_url:str) -> str:\n",
    "    return urllib.parse.unquote(str(encoded_url)).replace(\" HTTP/1.1\",\"\").replace(\"GET /\",\"/\")\n",
    "dataFrame:pd.DataFrame = pd.read_csv('./data/access.csv')\n",
    "dataFrame = dataFrame[dataFrame['Referer'] != '-']\n",
    "dataFrame['Request']=dataFrame['Request'].apply(decode_url_and_remove_HTTPversion)\n",
    "dataFrame = dataFrame[dataFrame['Request'].str.contains('/browse/|/product/')]\n",
    "dataFrame = dataFrame[~dataFrame['Request'].str.startswith('/image')]\n",
    "dataFrame['Request'] = dataFrame['Request'].apply(lambda url: url.split('/')[-1])\n",
    "dataFrame=dataFrame[dataFrame['Request']!='']\n",
    "dataFrame['next_request'] = dataFrame.groupby('IP')['Request'].shift(-1)\n",
    "dataFrame = dataFrame.dropna(subset=['next_request'])\n",
    "dataFrame=dataFrame.head(1000)"
   ]
  },
  {
   "cell_type": "code",
   "execution_count": 2,
   "metadata": {},
   "outputs": [
    {
     "name": "stdout",
     "output_type": "stream",
     "text": [
      "prediction experiment:\n",
      "گوشت-کوب-برقی ---> ['لوازم-خانگی', 'گوشت-کوب-برقی-بوش-مدل-MSM881664']\n",
      "یخچال-فریزر-فریزر-هایسنس-مدل-RS-20WC4SA ---> ['یخچال-فریزر-چهار-درب-سامسونگ-مدل-Romano-STS']\n",
      "اجاق-گاز-مبله ---> ['اجاق-گاز-مبله-دوو-مدل-DGC5-111', 'اجاق-گاز-مبله-سینجر-مدل-S2060', 'اجاق-گاز-مبله-سینجر-مدل-S2086S', 'اجاق-گاز-مبله-سینجر-مدل-SG-ECO-5051', 'اجاق-گاز-مبله-سینجر-مدل-SG-P460STD', 'اجاق-گاز-مبله-هاردستون-مدل-میلتون-تک-فر', 'اجاق-گاز-مبله-هاردستون-مدل-میلتون-فول-آپشن-دو-فر', 'لوازم-بزرگ-آشپزخانه', 'لوازم-منزل']\n",
      "count ranking:\n",
      "                                        Request  \\\n",
      "480                                 لوازم-خانگی   \n",
      "479                                 لوازم-خانگی   \n",
      "320    رادیاتور-برقی-فن-دار-فلر-مدل-ORF-28130BK   \n",
      "834  یخچال-فریزر-فریزر-پایین-بوش-مدل-KGN56LB304   \n",
      "469                         لوازم-بزرگ-آشپزخانه   \n",
      "\n",
      "                                   next_request  count  \n",
      "480                                 لوازم-خانگی     11  \n",
      "479                         لوازم-بزرگ-آشپزخانه      8  \n",
      "320    رادیاتور-برقی-فن-دار-فلر-مدل-ORF-28130BK      6  \n",
      "834  یخچال-فریزر-فریزر-پایین-بوش-مدل-KGN56LB304      6  \n",
      "469                                 یخچال-فریزر      6  \n"
     ]
    }
   ],
   "source": [
    "import networkx as nx\n",
    "# エッジのリストを作成し、遷移の数をカウント\n",
    "transition_counts = dataFrame.groupby(['Request', 'next_request']).size().reset_index(name='count')\n",
    "# グラフを作成し、エッジの属性として遷移の数を格納\n",
    "G = nx.DiGraph()\n",
    "for _, row in transition_counts.iterrows():\n",
    "    if row['Request'] != row['next_request']:\n",
    "        G.add_edge(row['Request'], row['next_request'], weight=row['count'])\n",
    "def predict_next_products(G, current_product_url:str)->list[str]:\n",
    "    # 現在の商品URLに対応するノードを見つける\n",
    "    if current_product_url in G:\n",
    "        # 次に見そうな商品のノードを取得する\n",
    "        next_products = list(G.successors(current_product_url))\n",
    "        return next_products\n",
    "    else:\n",
    "        # 現在の商品がグラフにない場合は空のリストを返す\n",
    "        return []\n",
    "test_request=dataFrame.head(3)\n",
    "print(\"prediction experiment:\")\n",
    "for colmn,record in test_request.iterrows():\n",
    "    print(record['Request']+\" ---> \",end='')\n",
    "    print(predict_next_products(G,record['Request']))\n",
    "print(\"count ranking:\")\n",
    "sorted_transitions = transition_counts.sort_values('count', ascending=False)\n",
    "print(sorted_transitions.head())  # 上位5件の遷移を表示"
   ]
  },
  {
   "cell_type": "code",
   "execution_count": null,
   "metadata": {},
   "outputs": [],
   "source": []
  }
 ],
 "metadata": {
  "kernelspec": {
   "display_name": "base",
   "language": "python",
   "name": "python3"
  },
  "language_info": {
   "codemirror_mode": {
    "name": "ipython",
    "version": 3
   },
   "file_extension": ".py",
   "mimetype": "text/x-python",
   "name": "python",
   "nbconvert_exporter": "python",
   "pygments_lexer": "ipython3",
   "version": "3.11.5"
  }
 },
 "nbformat": 4,
 "nbformat_minor": 2
}
